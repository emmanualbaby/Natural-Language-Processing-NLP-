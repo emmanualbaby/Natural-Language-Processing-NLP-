{
  "nbformat": 4,
  "nbformat_minor": 0,
  "metadata": {
    "colab": {
      "provenance": []
    },
    "kernelspec": {
      "name": "python3",
      "display_name": "Python 3"
    },
    "language_info": {
      "name": "python"
    }
  },
  "cells": [
    {
      "cell_type": "code",
      "execution_count": null,
      "metadata": {
        "colab": {
          "base_uri": "https://localhost:8080/"
        },
        "id": "A_WxgZy6z4it",
        "outputId": "45871d01-4659-47be-cfad-73d87b5138f6"
      },
      "outputs": [
        {
          "output_type": "stream",
          "name": "stdout",
          "text": [
            "Cleaned: visit our nlp toolkit page at to download the installer and sample data see the quickstart guide at if you need help email support at supportexamplecom or tweet us nlp_toolkit with the hashtag nlp we also keep short video tutorials on youtubecomchannelexample and a changelog at so youll always know whats new\n",
            "Tokens: ['visit', 'our', 'nlp', 'toolkit', 'page', 'at', 'to', 'download', 'the', 'installer', 'and', 'sample', 'data', 'see', 'the', 'quickstart', 'guide', 'at', 'if', 'you', 'need', 'help', 'email', 'support', 'at', 'supportexamplecom', 'or', 'tweet', 'us', 'nlp_toolkit', 'with', 'the', 'hashtag', 'nlp', 'we', 'also', 'keep', 'short', 'video', 'tutorials', 'on', 'youtubecomchannelexample', 'and', 'a', 'changelog', 'at', 'so', 'youll', 'always', 'know', 'whats', 'new']\n",
            "Filtered: ['visit', 'nlp', 'toolkit', 'page', 'download', 'installer', 'sample', 'data', 'see', 'quickstart', 'guide', 'need', 'help', 'email', 'support', 'supportexamplecom', 'tweet', 'us', 'nlp_toolkit', 'hashtag', 'nlp', 'also', 'keep', 'short', 'video', 'tutorials', 'youtubecomchannelexample', 'changelog', 'youll', 'always', 'know', 'whats', 'new']\n",
            "Stemmed: ['visit', 'nlp', 'toolkit', 'page', 'download', 'instal', 'sampl', 'data', 'see', 'quickstart', 'guid', 'need', 'help', 'email', 'support', 'supportexamplecom', 'tweet', 'us', 'nlp_toolkit', 'hashtag', 'nlp', 'also', 'keep', 'short', 'video', 'tutori', 'youtubecomchannelexampl', 'changelog', 'youll', 'alway', 'know', 'what', 'new']\n",
            "Lemmatized: ['visit', 'nlp', 'toolkit', 'page', 'download', 'installer', 'sample', 'data', 'see', 'quickstart', 'guide', 'need', 'help', 'email', 'support', 'supportexamplecom', 'tweet', 'u', 'nlp_toolkit', 'hashtag', 'nlp', 'also', 'keep', 'short', 'video', 'tutorial', 'youtubecomchannelexample', 'changelog', 'youll', 'always', 'know', 'whats', 'new']\n"
          ]
        },
        {
          "output_type": "stream",
          "name": "stderr",
          "text": [
            "[nltk_data] Downloading package punkt_tab to /root/nltk_data...\n",
            "[nltk_data]   Package punkt_tab is already up-to-date!\n",
            "[nltk_data] Downloading package stopwords to /root/nltk_data...\n",
            "[nltk_data]   Package stopwords is already up-to-date!\n",
            "[nltk_data] Downloading package wordnet to /root/nltk_data...\n",
            "[nltk_data]   Package wordnet is already up-to-date!\n"
          ]
        }
      ],
      "source": [
        "import nltk\n",
        "import re\n",
        "from nltk.corpus import stopwords\n",
        "from nltk.tokenize import word_tokenize\n",
        "from nltk.stem import PorterStemmer, WordNetLemmatizer\n",
        "\n",
        "nltk.download(\"punkt_tab\")\n",
        "nltk.download(\"stopwords\")\n",
        "nltk.download(\"wordnet\")\n",
        "\n",
        "text = \"Visit our NLP toolkit page at https://example.com/nlp-toolkit?utm_source=chat to download the installer and sample data (see the quick-start guide at https://example.com/docs/quick-start.pdf); if you need help, email support at support@example.com or tweet us @NLP_Toolkit with the hashtag #NLP — we also keep short video tutorials on youtube.com/channel/EXAMPLE and a changelog at https://example.com/changelog so you’ll always know what’s new.\"\n",
        "\n",
        "# 1) Lowercasing\n",
        "text = text.lower()\n",
        "\n",
        "# 2) Remove URLs\n",
        "text = re.sub(r\"http\\S+|www\\S+|https\\S+\", \"\", text)\n",
        "\n",
        "# 3) Remove HTML tags\n",
        "text = re.sub(r\"<.*?>\", \"\", text)\n",
        "\n",
        "# 4) Remove numbers\n",
        "text = re.sub(r\"\\d+\", \"\", text)\n",
        "\n",
        "# 5) Remove punctuation (except apostrophes)\n",
        "text = re.sub(r\"[^\\w\\s']\", \"\", text)\n",
        "\n",
        "# 6) Remove extra spaces\n",
        "text = re.sub(r\"\\s+\", \" \", text).strip()\n",
        "print(\"Cleaned:\", text)\n",
        "\n",
        "# 7) Tokenization\n",
        "tokens = word_tokenize(text)\n",
        "\n",
        "# 8) Stopword removal\n",
        "stop_words = set(stopwords.words(\"english\"))\n",
        "filtered = [w for w in tokens if w not in stop_words]\n",
        "\n",
        "# 9) Stemming\n",
        "stemmer = PorterStemmer()\n",
        "stemmed = [stemmer.stem(w) for w in filtered]\n",
        "\n",
        "# 10) Lemmatization\n",
        "lemmatizer = WordNetLemmatizer()\n",
        "lemmatized = [lemmatizer.lemmatize(w) for w in filtered]\n",
        "\n",
        "print(\"Tokens:\", tokens)\n",
        "print(\"Filtered:\", filtered)\n",
        "print(\"Stemmed:\", stemmed)\n",
        "print(\"Lemmatized:\", lemmatized)"
      ]
    },
    {
      "cell_type": "code",
      "source": [
        "text"
      ],
      "metadata": {
        "colab": {
          "base_uri": "https://localhost:8080/",
          "height": 53
        },
        "id": "PxKutXpy0rHJ",
        "outputId": "f78c31b9-6c7f-495a-d270-d0789d42866d"
      },
      "execution_count": null,
      "outputs": [
        {
          "output_type": "execute_result",
          "data": {
            "text/plain": [
              "'visit our nlp toolkit page at to download the installer and sample data see the quickstart guide at if you need help email support at supportexamplecom or tweet us nlp_toolkit with the hashtag nlp we also keep short video tutorials on youtubecomchannelexample and a changelog at so youll always know whats new'"
            ],
            "application/vnd.google.colaboratory.intrinsic+json": {
              "type": "string"
            }
          },
          "metadata": {},
          "execution_count": 4
        }
      ]
    },
    {
      "cell_type": "code",
      "source": [],
      "metadata": {
        "id": "wgV4Dt951Bjw"
      },
      "execution_count": null,
      "outputs": []
    }
  ]
}