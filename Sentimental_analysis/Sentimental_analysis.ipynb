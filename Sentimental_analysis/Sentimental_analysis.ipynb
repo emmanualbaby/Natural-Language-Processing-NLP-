{
  "nbformat": 4,
  "nbformat_minor": 0,
  "metadata": {
    "colab": {
      "provenance": []
    },
    "kernelspec": {
      "name": "python3",
      "display_name": "Python 3"
    },
    "language_info": {
      "name": "python"
    }
  },
  "cells": [
    {
      "cell_type": "code",
      "execution_count": 1,
      "metadata": {
        "id": "AJnqOl8KkDZh"
      },
      "outputs": [],
      "source": [
        "# Install dependencies\n",
        "# !pip install spacy pandas scikit-learn\n",
        "\n",
        "import spacy\n",
        "import pandas as pd\n",
        "from sklearn.model_selection import train_test_split\n",
        "from spacy.training.example import Example"
      ]
    },
    {
      "cell_type": "code",
      "source": [
        "# Load your dataset\n",
        "df = pd.read_csv(\"kalki_movie_reviews.csv\")"
      ],
      "metadata": {
        "id": "DovUMyH9nb9D"
      },
      "execution_count": 2,
      "outputs": []
    },
    {
      "cell_type": "code",
      "source": [
        "# Show columns to verify\n",
        "print(\"📋 Columns in file:\", df.columns.tolist())"
      ],
      "metadata": {
        "colab": {
          "base_uri": "https://localhost:8080/"
        },
        "id": "nwuc_vsvnjIp",
        "outputId": "04a6aa59-7de6-4f79-d93a-bd4570c2bbb4"
      },
      "execution_count": 3,
      "outputs": [
        {
          "output_type": "stream",
          "name": "stdout",
          "text": [
            "📋 Columns in file: ['Comments', 'Ratings']\n"
          ]
        }
      ]
    },
    {
      "cell_type": "code",
      "source": [
        "# Try to automatically detect text and label columns\n",
        "possible_text_cols = [c for c in df.columns if \"review\" in c.lower() or \"text\" in c.lower() or \"comment\" in c.lower()]\n",
        "possible_label_cols = [c for c in df.columns if \"sentiment\" in c.lower() or \"label\" in c.lower() or \"target\" in c.lower() or \"rating\" in c.lower()]\n",
        "\n",
        "if not possible_text_cols or not possible_label_cols:\n",
        "    raise ValueError(\"❌ Could not detect text or sentiment columns. Please specify manually.\")\n",
        "\n",
        "TEXT_COL = possible_text_cols[0]\n",
        "LABEL_COL = possible_label_cols[0]\n",
        "\n",
        "print(f\"✅ Using text column: {TEXT_COL}\")\n",
        "print(f\"✅ Using label column: {LABEL_COL}\")\n",
        "\n"
      ],
      "metadata": {
        "colab": {
          "base_uri": "https://localhost:8080/"
        },
        "id": "VX12_Ww4tH2F",
        "outputId": "80f57995-c1cb-4ace-87f5-d384843537c4"
      },
      "execution_count": 4,
      "outputs": [
        {
          "output_type": "stream",
          "name": "stdout",
          "text": [
            "✅ Using text column: Comments\n",
            "✅ Using label column: Ratings\n"
          ]
        }
      ]
    },
    {
      "cell_type": "code",
      "source": [
        "# Normalize labels\n",
        "df[LABEL_COL] = df[LABEL_COL].astype(str).str.lower().str.strip()\n",
        "\n"
      ],
      "metadata": {
        "id": "0f6G_GdDtLIA"
      },
      "execution_count": 5,
      "outputs": []
    },
    {
      "cell_type": "code",
      "source": [
        "# Map labels to spaCy-friendly format\n",
        "def label_to_dict(label):\n",
        "    if label in [\"positive\", \"pos\", \"1\", \"good\", \"yes\"]:\n",
        "        return {\"POSITIVE\": 1.0, \"NEGATIVE\": 0.0}\n",
        "    else:\n",
        "        return {\"POSITIVE\": 0.0, \"NEGATIVE\": 1.0}\n",
        "\n",
        "df[\"cats\"] = df[LABEL_COL].apply(label_to_dict)\n",
        "\n"
      ],
      "metadata": {
        "id": "mLQbDbaotNer"
      },
      "execution_count": 6,
      "outputs": []
    },
    {
      "cell_type": "code",
      "source": [
        "# Split data\n",
        "train_df, test_df = train_test_split(df, test_size=0.2, random_state=42)\n",
        "\n"
      ],
      "metadata": {
        "id": "bj9GzdHetQYn"
      },
      "execution_count": 7,
      "outputs": []
    },
    {
      "cell_type": "code",
      "source": [
        "# Create a blank English model\n",
        "nlp = spacy.blank(\"en\")\n",
        "\n"
      ],
      "metadata": {
        "id": "rmHcSSoftSlA"
      },
      "execution_count": 8,
      "outputs": []
    },
    {
      "cell_type": "code",
      "source": [
        "# Add text categorizer\n",
        "textcat = nlp.add_pipe(\"textcat\")\n",
        "textcat.add_label(\"POSITIVE\")\n",
        "textcat.add_label(\"NEGATIVE\")\n",
        "\n"
      ],
      "metadata": {
        "colab": {
          "base_uri": "https://localhost:8080/"
        },
        "id": "FFN8n9aVtUmh",
        "outputId": "fad29e08-65fe-47f4-ab1e-eb00a640fc26"
      },
      "execution_count": 9,
      "outputs": [
        {
          "output_type": "execute_result",
          "data": {
            "text/plain": [
              "1"
            ]
          },
          "metadata": {},
          "execution_count": 9
        }
      ]
    },
    {
      "cell_type": "code",
      "source": [
        "# Initialize model\n",
        "optimizer = nlp.initialize()\n",
        "\n"
      ],
      "metadata": {
        "id": "kF0osazotW1n"
      },
      "execution_count": 10,
      "outputs": []
    },
    {
      "cell_type": "code",
      "source": [
        "# Train\n",
        "for epoch in range(5):  # increase to 10+ for better accuracy\n",
        "    losses = {}\n",
        "    for i, row in train_df.iterrows():\n",
        "        doc = nlp.make_doc(str(row[TEXT_COL]))\n",
        "        example = Example.from_dict(doc, {\"cats\": row[\"cats\"]})\n",
        "        nlp.update([example], sgd=optimizer, losses=losses)\n",
        "    print(f\"Epoch {epoch+1} - Losses: {losses}\")\n",
        "\n"
      ],
      "metadata": {
        "colab": {
          "base_uri": "https://localhost:8080/"
        },
        "id": "TPjzfne-tZaM",
        "outputId": "8433fa23-63ae-4a2e-a09a-e85a3fd9d498"
      },
      "execution_count": 11,
      "outputs": [
        {
          "output_type": "stream",
          "name": "stdout",
          "text": [
            "Epoch 1 - Losses: {'textcat': 3.414907012794077}\n",
            "Epoch 2 - Losses: {'textcat': 3.695010416740704e-09}\n",
            "Epoch 3 - Losses: {'textcat': 6.317867708963915e-11}\n",
            "Epoch 4 - Losses: {'textcat': 1.3339134645567429e-12}\n",
            "Epoch 5 - Losses: {'textcat': 3.133023052287185e-14}\n"
          ]
        }
      ]
    },
    {
      "cell_type": "code",
      "source": [
        "# Evaluate\n",
        "correct = 0\n",
        "total = 0\n",
        "for i, row in test_df.iterrows():\n",
        "    doc = nlp(str(row[TEXT_COL]))\n",
        "    pred = \"positive\" if doc.cats[\"POSITIVE\"] > doc.cats[\"NEGATIVE\"] else \"negative\"\n",
        "    true = \"positive\" if row[\"cats\"][\"POSITIVE\"] == 1.0 else \"negative\"\n",
        "    if pred == true:\n",
        "        correct += 1\n",
        "    total += 1\n",
        "\n",
        "accuracy = correct / total\n",
        "print(f\"\\n🎯 Test Accuracy: {accuracy:.2f}\")\n",
        "\n"
      ],
      "metadata": {
        "colab": {
          "base_uri": "https://localhost:8080/"
        },
        "id": "T5nNTmFetbe-",
        "outputId": "d1f45581-0b0c-4026-eeab-2035e4b516ae"
      },
      "execution_count": 12,
      "outputs": [
        {
          "output_type": "stream",
          "name": "stdout",
          "text": [
            "\n",
            "🎯 Test Accuracy: 1.00\n"
          ]
        }
      ]
    },
    {
      "cell_type": "code",
      "source": [
        "# Test on new examples\n",
        "examples = [\n",
        "    \"The movie was absolutely fantastic!\",\n",
        "    \"It was boring and too long.\",\n",
        "    \"Superb acting and great story.\",\n",
        "]\n",
        "for text in examples:\n",
        "    doc = nlp(text)\n",
        "    print(f\"\\n{text} → {doc.cats}\")# Initialize model\n",
        "optimizer = nlp.initialize()\n",
        "\n"
      ],
      "metadata": {
        "colab": {
          "base_uri": "https://localhost:8080/"
        },
        "id": "7sacIdAmteJH",
        "outputId": "3e081c87-c9b3-42ce-acdd-7e9c4ac95b4b"
      },
      "execution_count": 13,
      "outputs": [
        {
          "output_type": "stream",
          "name": "stdout",
          "text": [
            "\n",
            "The movie was absolutely fantastic! → {'POSITIVE': 0.05906382203102112, 'NEGATIVE': 0.9409362077713013}\n",
            "\n",
            "It was boring and too long. → {'POSITIVE': 3.392460357076743e-08, 'NEGATIVE': 1.0}\n",
            "\n",
            "Superb acting and great story. → {'POSITIVE': 1.3859840919394628e-07, 'NEGATIVE': 0.9999998807907104}\n"
          ]
        }
      ]
    },
    {
      "cell_type": "code",
      "source": [
        "# Train\n",
        "for epoch in range(5):  # increase to 10+ for better accuracy\n",
        "    losses = {}\n",
        "    for i, row in train_df.iterrows():\n",
        "        doc = nlp.make_doc(str(row[TEXT_COL]))\n",
        "        example = Example.from_dict(doc, {\"cats\": row[\"cats\"]})\n",
        "        nlp.update([example], sgd=optimizer, losses=losses)\n",
        "    print(f\"Epoch {epoch+1} - Losses: {losses}\")\n"
      ],
      "metadata": {
        "colab": {
          "base_uri": "https://localhost:8080/"
        },
        "id": "Q7bYYDEbtgR9",
        "outputId": "e0799203-ab26-496e-abb9-e56106d0c10e"
      },
      "execution_count": 14,
      "outputs": [
        {
          "output_type": "stream",
          "name": "stdout",
          "text": [
            "Epoch 1 - Losses: {'textcat': 3.2344277052895682}\n",
            "Epoch 2 - Losses: {'textcat': 2.7510674283382624e-09}\n",
            "Epoch 3 - Losses: {'textcat': 5.0309864104032416e-11}\n",
            "Epoch 4 - Losses: {'textcat': 1.153974144397634e-12}\n",
            "Epoch 5 - Losses: {'textcat': 2.7087791463342175e-14}\n"
          ]
        }
      ]
    },
    {
      "cell_type": "code",
      "source": [
        "\n",
        "# Evaluate\n",
        "correct = 0\n",
        "total = 0\n",
        "for i, row in test_df.iterrows():\n",
        "    doc = nlp(str(row[TEXT_COL]))\n",
        "    pred = \"positive\" if doc.cats[\"POSITIVE\"] > doc.cats[\"NEGATIVE\"] else \"negative\"\n",
        "    true = \"positive\" if row[\"cats\"][\"POSITIVE\"] == 1.0 else \"negative\"\n",
        "    if pred == true:\n",
        "        correct += 1\n",
        "    total += 1\n",
        "\n",
        "accuracy = correct / total\n",
        "print(f\"\\n🎯 Test Accuracy: {accuracy:.2f}\")\n",
        "\n"
      ],
      "metadata": {
        "colab": {
          "base_uri": "https://localhost:8080/"
        },
        "id": "6sgylaZYtiI_",
        "outputId": "fc3fd675-1d96-4a41-8cf3-6862260a2454"
      },
      "execution_count": 15,
      "outputs": [
        {
          "output_type": "stream",
          "name": "stdout",
          "text": [
            "\n",
            "🎯 Test Accuracy: 1.00\n"
          ]
        }
      ]
    },
    {
      "cell_type": "code",
      "source": [
        "# Test on new examples\n",
        "examples = [\n",
        "    \"The movie was absolutely fantastic!\",\n",
        "    \"It was boring and too long.\",\n",
        "    \"Superb acting and great story.\",\n",
        "]\n",
        "for text in examples:\n",
        "    doc = nlp(text)\n",
        "    print(f\"\\n{text} → {doc.cats}\")"
      ],
      "metadata": {
        "colab": {
          "base_uri": "https://localhost:8080/"
        },
        "id": "4cR9mRuQtj43",
        "outputId": "a93d50e4-865d-4f11-996e-2c4c419439ce"
      },
      "execution_count": 16,
      "outputs": [
        {
          "output_type": "stream",
          "name": "stdout",
          "text": [
            "\n",
            "The movie was absolutely fantastic! → {'POSITIVE': 0.0006541184266097844, 'NEGATIVE': 0.9993458390235901}\n",
            "\n",
            "It was boring and too long. → {'POSITIVE': 3.0536415351889445e-07, 'NEGATIVE': 0.9999996423721313}\n",
            "\n",
            "Superb acting and great story. → {'POSITIVE': 1.233375041920226e-05, 'NEGATIVE': 0.9999877214431763}\n"
          ]
        }
      ]
    }
  ]
}