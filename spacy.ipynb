{
  "nbformat": 4,
  "nbformat_minor": 0,
  "metadata": {
    "colab": {
      "provenance": []
    },
    "kernelspec": {
      "name": "python3",
      "display_name": "Python 3"
    },
    "language_info": {
      "name": "python"
    }
  },
  "cells": [
    {
      "cell_type": "code",
      "execution_count": null,
      "metadata": {
        "colab": {
          "base_uri": "https://localhost:8080/"
        },
        "id": "1Vi6dVtD2PtY",
        "outputId": "b1979df4-b2fa-4998-d94a-c3fe8acfa8e9"
      },
      "outputs": [
        {
          "output_type": "stream",
          "name": "stdout",
          "text": [
            "Cleaned: nlp is amazing visit it helps computers understand human language running runs and ran are forms of 'run'\n",
            "Tokens: ['nlp', 'is', 'amazing', 'visit', 'it', 'helps', 'computers', 'understand', 'human', 'language', 'running', 'runs', 'and', 'ran', 'are', 'forms', 'of', \"'\", 'run', \"'\"]\n",
            "Filtered: ['nlp', 'amazing', 'visit', 'helps', 'computers', 'understand', 'human', 'language', 'running', 'runs', 'ran', 'forms', 'run']\n",
            "Lemmatized: ['nlp', 'amazing', 'visit', 'help', 'computer', 'understand', 'human', 'language', 'running', 'run', 'run', 'form', 'run']\n"
          ]
        }
      ],
      "source": [
        "import re\n",
        "import spacy\n",
        "\n",
        "# Load English language model\n",
        "nlp = spacy.load(\"en_core_web_sm\")\n",
        "\n",
        "text = \"NLP is amazing! Visit https://nlp.ai 🚀 It helps computers understand human language. <br> Running, runs, and ran are forms of 'run'. 12345\"\n",
        "\n",
        "# 1) Lowercasing\n",
        "text = text.lower()\n",
        "\n",
        "# 2) Remove URLs\n",
        "text = re.sub(r\"http\\S+|www\\S+|https\\S+\", \"\", text)\n",
        "\n",
        "# 3) Remove HTML tags\n",
        "text = re.sub(r\"<.*?>\", \"\", text)\n",
        "\n",
        "# 4) Remove numbers\n",
        "text = re.sub(r\"\\d+\", \"\", text)\n",
        "\n",
        "# 5) Remove punctuation (except apostrophes)\n",
        "text = re.sub(r\"[^\\w\\s']\", \"\", text)\n",
        "\n",
        "# 6) Remove extra spaces\n",
        "text = re.sub(r\"\\s+\", \" \", text).strip()\n",
        "\n",
        "print(\"Cleaned:\", text)\n",
        "\n",
        "# 7) Process text with spaCy\n",
        "doc = nlp(text)\n",
        "\n",
        "# 8) Tokenization\n",
        "tokens = [token.text for token in doc]\n",
        "\n",
        "# 9) Stopword removal\n",
        "filtered = [token.text for token in doc if not token.is_stop and token.is_alpha]\n",
        "\n",
        "# 10) Lemmatization (spaCy does this better than NLTK)\n",
        "lemmatized = [token.lemma_ for token in doc if not token.is_stop and token.is_alpha]\n",
        "\n",
        "print(\"Tokens:\", tokens)\n",
        "print(\"Filtered:\", filtered)\n",
        "print(\"Lemmatized:\", lemmatized)"
      ]
    },
    {
      "cell_type": "code",
      "source": [
        "text"
      ],
      "metadata": {
        "colab": {
          "base_uri": "https://localhost:8080/",
          "height": 36
        },
        "id": "lGbjSMwJ2gSv",
        "outputId": "dc15f246-4515-49b8-89eb-1440c0738ed5"
      },
      "execution_count": null,
      "outputs": [
        {
          "output_type": "execute_result",
          "data": {
            "text/plain": [
              "\"nlp is amazing visit it helps computers understand human language running runs and ran are forms of 'run'\""
            ],
            "application/vnd.google.colaboratory.intrinsic+json": {
              "type": "string"
            }
          },
          "metadata": {},
          "execution_count": 8
        }
      ]
    },
    {
      "cell_type": "code",
      "source": [
        "doc"
      ],
      "metadata": {
        "colab": {
          "base_uri": "https://localhost:8080/"
        },
        "id": "kPIxusDb22xH",
        "outputId": "f149bca0-553e-4003-e8a4-cc71561a158b"
      },
      "execution_count": null,
      "outputs": [
        {
          "output_type": "execute_result",
          "data": {
            "text/plain": [
              "nlp is amazing visit it helps computers understand human language running runs and ran are forms of 'run'"
            ]
          },
          "metadata": {},
          "execution_count": 9
        }
      ]
    },
    {
      "cell_type": "code",
      "source": [
        "lemmatized"
      ],
      "metadata": {
        "colab": {
          "base_uri": "https://localhost:8080/"
        },
        "id": "Sgakq77s27q5",
        "outputId": "93c2f20a-76ca-4047-f13b-516e5aa17d3a"
      },
      "execution_count": null,
      "outputs": [
        {
          "output_type": "execute_result",
          "data": {
            "text/plain": [
              "['nlp',\n",
              " 'amazing',\n",
              " 'visit',\n",
              " 'help',\n",
              " 'computer',\n",
              " 'understand',\n",
              " 'human',\n",
              " 'language',\n",
              " 'running',\n",
              " 'run',\n",
              " 'run',\n",
              " 'form',\n",
              " 'run']"
            ]
          },
          "metadata": {},
          "execution_count": 10
        }
      ]
    },
    {
      "cell_type": "code",
      "source": [
        "filtered"
      ],
      "metadata": {
        "colab": {
          "base_uri": "https://localhost:8080/"
        },
        "id": "wJnhfJSh2-Ao",
        "outputId": "35948b72-4f6d-4849-e463-a19c1a124a61"
      },
      "execution_count": null,
      "outputs": [
        {
          "output_type": "execute_result",
          "data": {
            "text/plain": [
              "['nlp',\n",
              " 'amazing',\n",
              " 'visit',\n",
              " 'helps',\n",
              " 'computers',\n",
              " 'understand',\n",
              " 'human',\n",
              " 'language',\n",
              " 'running',\n",
              " 'runs',\n",
              " 'ran',\n",
              " 'forms',\n",
              " 'run']"
            ]
          },
          "metadata": {},
          "execution_count": 11
        }
      ]
    },
    {
      "cell_type": "code",
      "source": [],
      "metadata": {
        "id": "e7qjEabj3D-N"
      },
      "execution_count": null,
      "outputs": []
    }
  ]
}